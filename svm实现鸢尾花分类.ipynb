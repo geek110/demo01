{
 "cells": [
  {
   "cell_type": "code",
   "execution_count": 7,
   "metadata": {},
   "outputs": [],
   "source": [
    "#读取数据\n",
    "from sklearn.datasets import load_iris\n",
    "X = load_iris().data\n",
    "y = load_iris().target"
   ]
  },
  {
   "cell_type": "code",
   "execution_count": 32,
   "metadata": {},
   "outputs": [
    {
     "data": {
      "text/plain": [
       "GridSearchCV(cv=5, error_score='raise',\n",
       "       estimator=Pipeline(memory=None,\n",
       "     steps=[('svc', SVC(C=1.0, cache_size=200, class_weight=None, coef0=0.0,\n",
       "  decision_function_shape='ovr', degree=3, gamma='auto', kernel='rbf',\n",
       "  max_iter=-1, probability=False, random_state=None, shrinking=True,\n",
       "  tol=0.001, verbose=False))]),\n",
       "       fit_params=None, iid=True, n_jobs=1,\n",
       "       param_grid={'svc__C': [1, 10, 100], 'svc__kernel': ['rbf', 'linear']},\n",
       "       pre_dispatch='2*n_jobs', refit=True, return_train_score='warn',\n",
       "       scoring=None, verbose=0)"
      ]
     },
     "execution_count": 32,
     "metadata": {},
     "output_type": "execute_result"
    }
   ],
   "source": [
    "#使用超参数网格搜索获取最好的c值和kernal核函数\n",
    "#结合Pipeline和GridSearchCV\n",
    "from sklearn.svm import SVC\n",
    "from sklearn.pipeline import Pipeline\n",
    "from sklearn.model_selection import ShuffleSplit\n",
    "from sklearn.model_selection import GridSearchCV\n",
    "\n",
    "#定义一个pipeline,操作，名为svc\n",
    "\n",
    "pipeline = Pipeline([('svc', SVC())])\n",
    "#设置最优化参数的取值\n",
    "param_grid = {\n",
    "    \n",
    "    'svc__C': [1, 10, 100],\n",
    "    'svc__kernel' : ['rbf', 'linear'],\n",
    "   \n",
    "}\n",
    "\n",
    "grid = GridSearchCV(pipeline, param_grid, cv=5)\n",
    "grid.fit(X, y)"
   ]
  },
  {
   "cell_type": "code",
   "execution_count": 33,
   "metadata": {},
   "outputs": [
    {
     "name": "stdout",
     "output_type": "stream",
     "text": [
      "{'svc__C': 1, 'svc__kernel': 'rbf'}\n",
      "0.98\n"
     ]
    }
   ],
   "source": [
    "#grid.best_score_：给出不同参数情况下的最好评价结果。best_params_：描述了已取得最佳结果的参数的组合\n",
    "print(grid.best_params_)\n",
    "print(grid.best_score_)"
   ]
  },
  {
   "cell_type": "code",
   "execution_count": 25,
   "metadata": {},
   "outputs": [
    {
     "name": "stdout",
     "output_type": "stream",
     "text": [
      "0.9736842105263158\n",
      "1.0\n"
     ]
    }
   ],
   "source": [
    "#导入软间隔支持向量机分类器和交叉验证\n",
    "from sklearn.svm import SVC\n",
    "from sklearn.model_selection import ShuffleSplit\n",
    "#生成迭代器，设划分次数为2次，训练样本为总样本的0.7，测试样本为0.25\n",
    "cv_split = ShuffleSplit(n_splits=2, train_size=0.7, test_size=0.25)\n",
    "#循环获取训练数据和目标值，测试数据和目标，并且使用svc进行分类\n",
    "for train_index, test_index in cv_split.split(X,y):\n",
    "    train_X = X[train_index]\n",
    "    test_X = X[test_index]\n",
    "    train_y = y[train_index]\n",
    "    test_y = y[test_index]\n",
    "   #使用网格搜索得到的c和kernel\n",
    "    svc_model = SVC(C=1.0,kernel='rbf')\n",
    "    svc_model.fit(train_X, train_y)\n",
    "    score = svc_model.score(test_X, test_y)\n",
    "    print(score)"
   ]
  },
  {
   "cell_type": "code",
   "execution_count": null,
   "metadata": {},
   "outputs": [],
   "source": []
  }
 ],
 "metadata": {
  "kernelspec": {
   "display_name": "Python 3",
   "language": "python",
   "name": "python3"
  },
  "language_info": {
   "codemirror_mode": {
    "name": "ipython",
    "version": 3
   },
   "file_extension": ".py",
   "mimetype": "text/x-python",
   "name": "python",
   "nbconvert_exporter": "python",
   "pygments_lexer": "ipython3",
   "version": "3.7.0"
  }
 },
 "nbformat": 4,
 "nbformat_minor": 2
}
